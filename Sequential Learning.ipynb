{
 "cells": [
  {
   "cell_type": "code",
   "execution_count": 29,
   "metadata": {
    "collapsed": true,
    "deletable": true,
    "editable": true
   },
   "outputs": [],
   "source": [
    "%matplotlib inline\n",
    "import numpy as np\n",
    "import matplotlib.pylab as plt"
   ]
  },
  {
   "cell_type": "markdown",
   "metadata": {
    "deletable": true,
    "editable": true
   },
   "source": [
    "## Sequential learning\n",
    "Let us consider a scenario when the data comes to us in chunks. For instance, we observe new user sessions each day; or, alternatively, from time to time a new portion of a dataset is labelled by humans.\n",
    "\n",
    "How can we update our current model to account for the incoming chunk? One way is disregard the existing model, add the new chunk to the earlier available dataset, and learn a new model from scratch. However, sometimes that approach is not cost-effective, and we look for a way to quickly update the existing model. How can we do that? Easy, Laplace approximation to the rescue.\n",
    "\n",
    "\n",
    "We can think of that in a Bayesian setting: as a result of earlier learning, we obtained a Gaussian approximation $p_{old}(\\theta)$ for the parameter $\\theta$. The next step is to update this distribution given a new evidence.\n",
    "$$\n",
    "p(\\theta) \\propto p_{old}(\\theta) P(\\mathbb{D}_{new} | \\theta)\n",
    "$$\n",
    "Taking logarithms of the both parts, we get\n",
    "$$\n",
    "log P(\\theta) =  log P(\\theta_{old}) + log P(\\mathbb{D}_{new} | \\theta)\n",
    "$$\n",
    "Maximizing posterior w.r.t. $\\theta$,\n",
    "$$\n",
    "\\hat \\theta_{new} = argmax_{\\theta} L_{new} = argmax_{\\theta} ~ log P(\\theta_{old}) + log P(\\mathbb{D}_{new} | \\theta) = \n",
    "argmax_{\\theta} \\left[ \\frac{1}{2}(\\theta - \\hat \\theta)^T \\mathbb{H}_d (\\theta - \\hat \\theta) + log P(\\mathbb{D}_{new} | \\theta) \\right]\n",
    "$$\n",
    "By optimizing this equation numerically, we can find the updated model $\\theta_{new}$. Furthermore, we find can find the Laplace approximation of the posterior by analysing second-order derivatives around the optimum $\\hat \\theta_{new}$:\n",
    "$$\n",
    "log P(\\theta) \\sim const + \\frac{1}{2}(\\theta - \\hat \\theta_{new})^T \\left[ \\nabla \\nabla_ {\\theta=\\hat \\theta_{new}} L_{new} \\right]  (\\theta - \\hat \\theta_{new})\n",
    "$$\n",
    "This time, $\\nabla \\nabla_ {\\theta=\\hat \\theta_{new}} L_{new} $ would be as follows:\n",
    "$$\n",
    "\\nabla \\nabla_ {\\theta=\\hat \\theta_{new}} L_{new} = \\mathbb{H}_d + \\nabla \\nabla_ {\\theta=\\hat \\theta_{new}} log P(\\mathbb{D}_{new} | \\theta)\n",
    "$$\n",
    "\n",
    "\n",
    "In an alternative point of view, we have a quadratic approximation of the loss on the \"old\" dataset, and can just optimize it jointly with a log-likelihood on the new incoming chunk.\n",
    "$$\n",
    "L_{new} = const + \\frac{1}{2}(\\theta - \\hat \\theta)^T \\mathbb{H} (\\theta - \\hat \\theta) + log P(\\mathbb{D}_{new} | \\theta)\n",
    "$$\n",
    "$$\n",
    "\\hat \\theta_{new} = argmax ~ L_{new}\n",
    "$$\n",
    "and then we can replace this joint loss (on the incoming data and the surrogate representative of the loss on the \"old\" dataset) by a new quadratic surrogate, so that it can be used later.\n",
    "\n",
    "$$\n",
    "L_{new}(\\theta) \\approx L_{new}(\\hat \\theta_{new}) + \\frac{1}{2}(\\theta - \\hat \\theta_{new})^T \\left[ \\nabla \\nabla_ {\\theta=\\hat \\theta_{new}} L_{new} \\right](\\theta - \\hat \\theta_{new})\n",
    "$$\n",
    "As earlier, we have\n",
    "$$\n",
    "\\nabla \\nabla_ {\\theta=\\hat \\theta_{new}} L_{new} = \\mathbb{H}_d + \\nabla \\nabla_ {\\theta=\\hat \\theta_{new}} log P(\\mathbb{D}_{new} | \\theta)\n",
    "$$"
   ]
  },
  {
   "cell_type": "markdown",
   "metadata": {
    "collapsed": true,
    "deletable": true,
    "editable": true
   },
   "source": [
    "We will illustrate the sequential learning approach in a following experiment. Let's take the MNIST dataset and split its training subset in 10 equal parts. After that, we will sequentially learn on them and control how the loss on the validation dataset is behaving. As baselines we will consider two set-ups. Firstly, we will learn a single model using the whole training dataset. That baseline would provide us with an upper-bound for the performance. Secondly, we will sequentally train a single model on these 10 parts, but without using the earlier output as a prior."
   ]
  },
  {
   "cell_type": "code",
   "execution_count": 24,
   "metadata": {
    "collapsed": false,
    "deletable": true,
    "editable": true
   },
   "outputs": [
    {
     "name": "stdout",
     "output_type": "stream",
     "text": [
      "Extracting MNIST_data/train-images-idx3-ubyte.gz\n",
      "Extracting MNIST_data/train-labels-idx1-ubyte.gz\n",
      "Extracting MNIST_data/t10k-images-idx3-ubyte.gz\n",
      "Extracting MNIST_data/t10k-labels-idx1-ubyte.gz\n"
     ]
    }
   ],
   "source": [
    "from model import LaplacedModel, get_learning_curve\n",
    "from tensorflow.examples.tutorials.mnist import input_data\n",
    "\n",
    "mnist = input_data.read_data_sets('MNIST_data', one_hot=True)\n",
    "sequential_tasks = 10"
   ]
  },
  {
   "cell_type": "code",
   "execution_count": 31,
   "metadata": {
    "collapsed": false,
    "deletable": true,
    "editable": true
   },
   "outputs": [
    {
     "name": "stdout",
     "output_type": "stream",
     "text": [
      "learning task # 0\n",
      "validation loss: [0.57260001]\n",
      "learning task # 1\n",
      "validation loss: [0.70190001]\n",
      "learning task # 2\n",
      "validation loss: [0.7683]\n",
      "learning task # 3\n",
      "validation loss: [0.8039]\n",
      "learning task # 4\n",
      "validation loss: [0.8143]\n",
      "learning task # 5\n",
      "validation loss: [0.83139998]\n",
      "learning task # 6\n",
      "validation loss: [0.82880002]\n",
      "learning task # 7\n",
      "validation loss: [0.83759999]\n",
      "learning task # 8\n",
      "validation loss: [0.8387]\n",
      "learning task # 9\n",
      "validation loss: [0.84320003]\n"
     ]
    }
   ],
   "source": [
    "model_laplaced = LaplacedModel(4, 0.0, 1.0, True)\n",
    "laplaced_loss_curve = get_learning_curve(model_laplaced, mnist.train, mnist.test, sequential_tasks)"
   ]
  },
  {
   "cell_type": "code",
   "execution_count": 32,
   "metadata": {
    "collapsed": false,
    "deletable": true,
    "editable": true
   },
   "outputs": [
    {
     "name": "stdout",
     "output_type": "stream",
     "text": [
      "[[0.57260001], [0.70190001], [0.7683], [0.8039], [0.8143], [0.83139998], [0.82880002], [0.83759999], [0.8387], [0.84320003]]\n"
     ]
    }
   ],
   "source": [
    "print laplaced_loss_curve"
   ]
  },
  {
   "cell_type": "code",
   "execution_count": 33,
   "metadata": {
    "collapsed": false,
    "deletable": true,
    "editable": true
   },
   "outputs": [
    {
     "name": "stdout",
     "output_type": "stream",
     "text": [
      "learning task # 0\n",
      "validation loss: [0.57260001]\n",
      "learning task # 1\n",
      "validation loss: [0.58840001]\n",
      "learning task # 2\n",
      "validation loss: [0.61210001]\n",
      "learning task # 3\n",
      "validation loss: [0.59939998]\n",
      "learning task # 4\n",
      "validation loss: [0.58579999]\n",
      "learning task # 5\n",
      "validation loss: [0.6081]\n",
      "learning task # 6\n",
      "validation loss: [0.6103]\n",
      "learning task # 7\n",
      "validation loss: [0.63]\n",
      "learning task # 8\n",
      "validation loss: [0.57090002]\n",
      "learning task # 9\n",
      "validation loss: [0.60110003]\n"
     ]
    }
   ],
   "source": [
    "model_naive = LaplacedModel(4, 0.0, 1.0, False)\n",
    "naive_loss_curve = get_learning_curve(model_naive, mnist.train, mnist.test, sequential_tasks)"
   ]
  },
  {
   "cell_type": "code",
   "execution_count": 34,
   "metadata": {
    "collapsed": false,
    "deletable": true,
    "editable": true
   },
   "outputs": [
    {
     "name": "stdout",
     "output_type": "stream",
     "text": [
      "[[0.57260001], [0.58840001], [0.61210001], [0.59939998], [0.58579999], [0.6081], [0.6103], [0.63], [0.57090002], [0.60110003]]\n"
     ]
    }
   ],
   "source": [
    "print naive_loss_curve"
   ]
  },
  {
   "cell_type": "code",
   "execution_count": 35,
   "metadata": {
    "collapsed": false,
    "deletable": true,
    "editable": true
   },
   "outputs": [
    {
     "name": "stdout",
     "output_type": "stream",
     "text": [
      "0.6985\n",
      "0.863\n",
      "0.8735\n",
      "0.888\n",
      "0.8875\n",
      "0.8975\n",
      "0.9125\n",
      "0.92\n",
      "0.909\n",
      "0.9145\n"
     ]
    }
   ],
   "source": [
    "upper_bound_model = LaplacedModel(4, 0.0, 1.0, False)\n",
    "upper_bound_curve = upper_bound_model.learn_new_task(mnist.train, mnist.test)"
   ]
  },
  {
   "cell_type": "code",
   "execution_count": 36,
   "metadata": {
    "collapsed": false,
    "deletable": true,
    "editable": true
   },
   "outputs": [
    {
     "name": "stdout",
     "output_type": "stream",
     "text": [
      "[0.92650002]\n"
     ]
    }
   ],
   "source": [
    "print upper_bound_curve"
   ]
  },
  {
   "cell_type": "code",
   "execution_count": 37,
   "metadata": {
    "collapsed": false,
    "deletable": true,
    "editable": true
   },
   "outputs": [
    {
     "data": {
      "text/plain": [
       "<matplotlib.legend.Legend at 0x13ae08ed0>"
      ]
     },
     "execution_count": 37,
     "metadata": {},
     "output_type": "execute_result"
    },
    {
     "data": {
      "image/png": "[encoded data removed]",
      "text/plain": [
       "<matplotlib.figure.Figure at 0x13b073a50>"
      ]
     },
     "metadata": {},
     "output_type": "display_data"
    }
   ],
   "source": [
    "plt.plot(naive_loss_curve, label='Naive updates')\n",
    "plt.plot(laplaced_loss_curve, label='Laplace updates')\n",
    "plt.plot([upper_bound_curve for _ in naive_loss_curve], label='Upper bound')\n",
    "plt.ylim([0, 1])\n",
    "\n",
    "plt.legend()"
   ]
  },
  {
   "cell_type": "markdown",
   "metadata": {
    "deletable": true,
    "editable": true
   },
   "source": [
    "While the updated learning is not as good as the upper bound, but we see it's way better than the naive approach. Hence, it's a nice alternative when the it is infeasible/too expensive to learn on the entire dataset."
   ]
  }
 ],
 "metadata": {
  "kernelspec": {
   "display_name": "Python 2",
   "language": "python",
   "name": "python2"
  },
  "language_info": {
   "codemirror_mode": {
    "name": "ipython",
    "version": 2
   },
   "file_extension": ".py",
   "mimetype": "text/x-python",
   "name": "python",
   "nbconvert_exporter": "python",
   "pygments_lexer": "ipython2",
   "version": "2.7.13"
  }
 },
 "nbformat": 4,
 "nbformat_minor": 2
}
