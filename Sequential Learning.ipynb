{
 "cells": [
  {
   "cell_type": "code",
   "execution_count": 11,
   "metadata": {
    "collapsed": true
   },
   "outputs": [],
   "source": [
    "%matplotlib inline\n",
    "import numpy as np\n",
    "import matplotlib.pylab as plt"
   ]
  },
  {
   "cell_type": "markdown",
   "metadata": {},
   "source": [
    "# Sequential learning\n",
    "\n",
    "## Theory\n",
    "\n",
    "Imagine a scenario where the data comes to us in batches. For instance, we observe new user sessions each day; or, alternatively, from time to time a new portion of a dataset is labelled by judges.\n",
    "\n",
    "How can we update our current model to account for the incoming batch? One way is to disregard the existing model, add the new batch to the old dataset, and learn a new model from scratch using all the data. However, sometimes that approach is not cost-effective, and we look for a way to quickly update the existing model. How can we do that? Easy, Laplace approximation to the rescue!\n",
    "\n",
    "### Bayesian view\n",
    "\n",
    "We can think of that in a Bayesian setting: as a result of earlier learning, we obtained a Gaussian approximation $p_{old}(\\theta)$ for the parameter's $\\theta$ posterior. The next step is to update this distribution given a new evidence.\n",
    "$$\n",
    "p(\\theta) \\propto p_{old}(\\theta) P(\\mathbb{D}_{new} | \\theta)\n",
    "$$\n",
    "Taking logarithms of the both parts, we get\n",
    "$$\n",
    "log P(\\theta) =  log P(\\theta_{old}) + log P(\\mathbb{D}_{new} | \\theta)\n",
    "$$\n",
    "To find the MAP estimate, we again find the maximizer of the posterior,\n",
    "$$\n",
    "\\hat \\theta_{new} = argmax_{\\theta} L_{new} = argmax_{\\theta} log P(\\theta_{old}) + log P(\\mathbb{D}_{new} | \\theta) = \n",
    "argmax_{\\theta} \\left[ \\frac{1}{2}(\\theta - \\hat \\theta)^T \\mathbb{H}_d (\\theta - \\hat \\theta) + log P(\\mathbb{D}_{new} | \\theta) \\right]\n",
    "$$\n",
    "By optimizing this equation numerically, we can find the updated model $\\theta_{new}$. Furthermore, we find can find the Laplace approximation of the posterior by analysing second-order derivatives around the optimum $\\hat \\theta_{new}$:\n",
    "$$\n",
    "log P(\\theta) \\sim const + \\frac{1}{2}(\\theta - \\hat \\theta_{new})^T \\left[ \\nabla \\nabla_ {\\theta=\\hat \\theta_{new}} L_{new} \\right]  (\\theta - \\hat \\theta_{new})\n",
    "$$\n",
    "This time, $\\nabla \\nabla_ {\\theta=\\hat \\theta_{new}} L_{new} $ would be as follows:\n",
    "$$\n",
    "\\nabla \\nabla_ {\\theta=\\hat \\theta_{new}} L_{new} = \\mathbb{H}_d + \\nabla \\nabla_ {\\theta=\\hat \\theta_{new}} log P(\\mathbb{D}_{new} | \\theta)\n",
    "$$\n",
    "\n",
    "### Optimization view\n",
    "\n",
    "In an alternative point of view, we have a quadratic approximation of the loss on the \"old\" dataset, and can just optimize it jointly with a log-likelihood on the new incoming batch:\n",
    "$$\n",
    "L_{new} = const + \\frac{1}{2}(\\theta - \\hat \\theta)^T \\mathbb{H} (\\theta - \\hat \\theta) + log P(\\mathbb{D}_{new} | \\theta)\n",
    "$$\n",
    "$$\n",
    "\\hat \\theta_{new} = argmax L_{new}\n",
    "$$\n",
    "and then we can replace this joint loss (on the incoming data and the surrogate representative of the loss on the \"old\" dataset) by a new quadratic surrogate, so that it can be used later.\n",
    "\n",
    "$$\n",
    "L_{new}(\\theta) \\approx L_{new}(\\hat \\theta_{new}) + \\frac{1}{2}(\\theta - \\hat \\theta_{new})^T \\left[ \\nabla \\nabla_ {\\theta=\\hat \\theta_{new}} L_{new} \\right](\\theta - \\hat \\theta_{new})\n",
    "$$\n",
    "As earlier, we have\n",
    "$$\n",
    "\\nabla \\nabla_ {\\theta=\\hat \\theta_{new}} L_{new} = \\mathbb{H}_d + \\nabla \\nabla_ {\\theta=\\hat \\theta_{new}} log P(\\mathbb{D}_{new} | \\theta)\n",
    "$$"
   ]
  },
  {
   "cell_type": "markdown",
   "metadata": {
    "collapsed": true
   },
   "source": [
    "## Illustration\n",
    "\n",
    "Let's illustrate the described approach in a following experiment. We will take the MNIST dataset and split its training subset in 10 equal parts. We will consider these subsets as batches of data that arrive sequentially: we start with the first batch, then the second arrives, etc.\n",
    "\n",
    "After that, we will learn on these parts in three scenarios:\n",
    " * in the `Naive updates` scenario we only learn on the freshly arrived data,\n",
    " * in the `Laplace updates` we use the sequential learning technique described above,\n",
    " * in the `Upper bound` scenario we use the entire training dataset in a single optimization problem.\n",
    "\n",
    "In the first two scenarios, we control how the error on the test set changes after observing a new batch of data.\n",
    "\n",
    "Note, that on each step, `Naive updates` and `Laplace updates` operate only with the incoming batch. Hence, they have roughly the same computational complexity/storage requirements, which is typically proportional to the number of the datapoints. On the other hand, the `Upper bound` operates with the dataset which is considerably larger. Due to that, `Upper bound` is expected to perform better than the other two optimization scenarios."
   ]
  },
  {
   "cell_type": "code",
   "execution_count": 1,
   "metadata": {},
   "outputs": [],
   "source": [
    "from model import LaplacedModel, get_learning_curve\n",
    "from tensorflow.examples.tutorials.mnist import input_data"
   ]
  },
  {
   "cell_type": "code",
   "execution_count": 2,
   "metadata": {},
   "outputs": [
    {
     "name": "stdout",
     "output_type": "stream",
     "text": [
      "Extracting MNIST_data/train-images-idx3-ubyte.gz\n",
      "Extracting MNIST_data/train-labels-idx1-ubyte.gz\n",
      "Extracting MNIST_data/t10k-images-idx3-ubyte.gz\n",
      "Extracting MNIST_data/t10k-labels-idx1-ubyte.gz\n"
     ]
    }
   ],
   "source": [
    "#Loading the MNIST dataset\n",
    "mnist = input_data.read_data_sets('MNIST_data', one_hot=True)\n",
    "sequential_tasks = 10"
   ]
  },
  {
   "cell_type": "code",
   "execution_count": 3,
   "metadata": {},
   "outputs": [
    {
     "name": "stdout",
     "output_type": "stream",
     "text": [
      "learning task # 0\n",
      "validation loss: [0.5693]\n",
      "learning task # 1\n",
      "validation loss: [0.69580001]\n",
      "learning task # 2\n",
      "validation loss: [0.76959997]\n",
      "learning task # 3\n",
      "validation loss: [0.82069999]\n",
      "learning task # 4\n",
      "validation loss: [0.83359998]\n",
      "learning task # 5\n",
      "validation loss: [0.8387]\n",
      "learning task # 6\n",
      "validation loss: [0.85110003]\n",
      "learning task # 7\n",
      "validation loss: [0.85439998]\n",
      "learning task # 8\n",
      "validation loss: [0.85189998]\n",
      "learning task # 9\n",
      "validation loss: [0.85970002]\n"
     ]
    }
   ],
   "source": [
    "# We create a 784->50->10 multilayer network with a softmax output layer predicting a digit\n",
    "# the optimization would be performed using minibatches of size 4, no L2 regularization; \n",
    "# with the Laplace updates enabled\n",
    "\n",
    "model_laplaced = LaplacedModel(4, True)\n",
    "laplaced_loss_curve = get_learning_curve(model_laplaced, mnist.train, mnist.test, sequential_tasks)"
   ]
  },
  {
   "cell_type": "code",
   "execution_count": 4,
   "metadata": {},
   "outputs": [
    {
     "name": "stdout",
     "output_type": "stream",
     "text": [
      "[[0.5693], [0.69580001], [0.76959997], [0.82069999], [0.83359998], [0.8387], [0.85110003], [0.85439998], [0.85189998], [0.85970002]]\n"
     ]
    }
   ],
   "source": [
    "# Let's print the trajectory of the test losses to make sure the test loss is roughly decreasing\n",
    "print laplaced_loss_curve"
   ]
  },
  {
   "cell_type": "code",
   "execution_count": 5,
   "metadata": {},
   "outputs": [
    {
     "name": "stdout",
     "output_type": "stream",
     "text": [
      "learning task # 0\n",
      "validation loss: [0.5693]\n",
      "learning task # 1\n",
      "validation loss: [0.57279998]\n",
      "learning task # 2\n",
      "validation loss: [0.58310002]\n",
      "learning task # 3\n",
      "validation loss: [0.5988]\n",
      "learning task # 4\n",
      "validation loss: [0.59689999]\n",
      "learning task # 5\n",
      "validation loss: [0.56989998]\n",
      "learning task # 6\n",
      "validation loss: [0.5959]\n",
      "learning task # 7\n",
      "validation loss: [0.6164]\n",
      "learning task # 8\n",
      "validation loss: [0.59100002]\n",
      "learning task # 9\n",
      "validation loss: [0.6401]\n"
     ]
    }
   ],
   "source": [
    "# Now we train the naive model: same parameters, but the Laplace updates are off\n",
    "model_naive = LaplacedModel(4, False)\n",
    "naive_loss_curve = get_learning_curve(model_naive, mnist.train, mnist.test, sequential_tasks)"
   ]
  },
  {
   "cell_type": "code",
   "execution_count": 6,
   "metadata": {},
   "outputs": [
    {
     "name": "stdout",
     "output_type": "stream",
     "text": [
      "[[0.5693], [0.57279998], [0.58310002], [0.5988], [0.59689999], [0.56989998], [0.5959], [0.6164], [0.59100002], [0.6401]]\n"
     ]
    }
   ],
   "source": [
    "# Again, we print the trajectory of the test losses - this time they \n",
    "# not really decrease - as we only use 1/10 th of the data each time!\n",
    "print naive_loss_curve"
   ]
  },
  {
   "cell_type": "code",
   "execution_count": 8,
   "metadata": {},
   "outputs": [],
   "source": [
    "upper_bound_model = LaplacedModel(4, False)\n",
    "upper_bound_curve = upper_bound_model.learn_new_task(mnist.train, mnist.test)"
   ]
  },
  {
   "cell_type": "code",
   "execution_count": 9,
   "metadata": {},
   "outputs": [
    {
     "name": "stdout",
     "output_type": "stream",
     "text": [
      "[0.926]\n"
     ]
    }
   ],
   "source": [
    "print upper_bound_curve"
   ]
  },
  {
   "cell_type": "code",
   "execution_count": 12,
   "metadata": {},
   "outputs": [
    {
     "data": {
      "text/plain": [
       "<matplotlib.legend.Legend at 0x1305be850>"
      ]
     },
     "execution_count": 12,
     "metadata": {},
     "output_type": "execute_result"
    },
    {
     "data": {
      "image/png": "[encoded data removed]",
      "text/plain": [
       "<matplotlib.figure.Figure at 0x1302adb50>"
      ]
     },
     "metadata": {},
     "output_type": "display_data"
    }
   ],
   "source": [
    "plt.plot(naive_loss_curve, label='Naive updates')\n",
    "plt.plot(laplaced_loss_curve, label='Laplace updates')\n",
    "plt.plot([upper_bound_curve for _ in naive_loss_curve], label='Upper bound')\n",
    "plt.ylim([0, 1])\n",
    "\n",
    "plt.legend()"
   ]
  },
  {
   "cell_type": "markdown",
   "metadata": {},
   "source": [
    "### Conclusion\n",
    "\n",
    "While the updated learning is not as good as the upper bound, we see it's way better than the naive approach. Moreover, after observing the entire dataset, it get pretty close to the good solution. Hence, it's a nice alternative when the it is infeasible/too expensive to learn on the entire dataset."
   ]
  }
 ],
 "metadata": {
  "kernelspec": {
   "display_name": "Python 2",
   "language": "python",
   "name": "python2"
  },
  "language_info": {
   "codemirror_mode": {
    "name": "ipython",
    "version": 2
   },
   "file_extension": ".py",
   "mimetype": "text/x-python",
   "name": "python",
   "nbconvert_exporter": "python",
   "pygments_lexer": "ipython2",
   "version": "2.7.13"
  }
 },
 "nbformat": 4,
 "nbformat_minor": 2
}
